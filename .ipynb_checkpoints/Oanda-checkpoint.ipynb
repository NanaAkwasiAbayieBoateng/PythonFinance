{
 "cells": [
  {
   "cell_type": "markdown",
   "metadata": {},
   "source": [
    "**oandapy**\n",
    "\n",
    "oandapy is a python wrapper for OANDA's REST API.\n",
    "\n",
    "Install\n",
    "\n",
    "\n",
    "    \n",
    "    \n",
    "oandapy depends on python-requests, which will be installed automatically."
   ]
  },
  {
   "cell_type": "code",
   "execution_count": null,
   "metadata": {
    "collapsed": true
   },
   "outputs": [],
   "source": [
    "#Using pip:\n",
    "    \n",
    "\n",
    "#pip install git+https://github.com/oanda/oandapy.git"
   ]
  },
  {
   "cell_type": "markdown",
   "metadata": {},
   "source": [
    "**Usage**\n",
    "\n",
    "Include the oandapy module and create an oandapy instance with your account credentials. For FxGame and FxTrade, an access token must be provided."
   ]
  },
  {
   "cell_type": "code",
   "execution_count": 2,
   "metadata": {
    "collapsed": true
   },
   "outputs": [],
   "source": [
    "import oandapy"
   ]
  },
  {
   "cell_type": "markdown",
   "metadata": {},
   "source": [
    "To work with the package, you need to create a configuration file with filename oanda.cfg that has the following content:"
   ]
  },
  {
   "cell_type": "code",
   "execution_count": 89,
   "metadata": {
    "collapsed": true
   },
   "outputs": [],
   "source": [
    "account_id = \"unltd148\"\n",
    "access_token = \"36d3913e613228d243330782fc920138-96e6736e02346550baf0881bbe77b21a\"\n"
   ]
  },
  {
   "cell_type": "code",
   "execution_count": 87,
   "metadata": {
    "collapsed": true
   },
   "outputs": [],
   "source": [
    "oanda = oandapy.API(environment=\"practice\", \n",
    "access_token=\"36d3913e613228d243330782fc920138-96e6736e02346550baf0881bbe77b21a\")"
   ]
  },
  {
   "cell_type": "code",
   "execution_count": 5,
   "metadata": {},
   "outputs": [
    {
     "data": {
      "text/plain": [
       "1.24127"
      ]
     },
     "execution_count": 5,
     "metadata": {},
     "output_type": "execute_result"
    }
   ],
   "source": [
    "response = oanda.get_prices(instruments=\"EUR_USD\")\n",
    "prices = response.get(\"prices\")\n",
    "asking_price = prices[0].get(\"ask\")\n",
    "asking_price"
   ]
  },
  {
   "cell_type": "code",
   "execution_count": 108,
   "metadata": {},
   "outputs": [
    {
     "data": {
      "text/plain": [
       "[{'ask': 1.24584,\n",
       "  'bid': 1.24568,\n",
       "  'instrument': 'EUR_USD',\n",
       "  'time': '2018-02-15T02:07:50.781682Z'}]"
      ]
     },
     "execution_count": 108,
     "metadata": {},
     "output_type": "execute_result"
    }
   ],
   "source": [
    "prices"
   ]
  },
  {
   "cell_type": "markdown",
   "metadata": {},
   "source": [
    "**Examples**\n",
    "\n",
    "Get price for an instrument"
   ]
  },
  {
   "cell_type": "code",
   "execution_count": 17,
   "metadata": {
    "collapsed": true
   },
   "outputs": [],
   "source": [
    "response = oanda.get_prices(instruments=\"EUR_USD\")\n",
    "prices = response.get(\"prices\")\n",
    "asking_price = prices[0].get(\"ask\")"
   ]
  },
  {
   "cell_type": "markdown",
   "metadata": {},
   "source": [
    "**Open a limit order**"
   ]
  },
  {
   "cell_type": "markdown",
   "metadata": {},
   "source": [
    "#### required datetime functions\n",
    "from datetime import datetime, timedelta\n",
    "\n",
    "#### sample account_id\n",
    "account_id = 1813880\n",
    "\n",
    "#### set the trade to expire after one day\n",
    "trade_expire = datetime.utcnow() + timedelta(days=1)\n",
    "trade_expire = trade_expire.isoformat(\"T\") + \"Z\"\n",
    "\n",
    "response = oanda.create_order(account_id,\n",
    "    instrument=\"USD_CAD\",\n",
    "    units=1000,\n",
    "    side='sell',\n",
    "    type='limit',\n",
    "    price=1.15,\n",
    "    expiry=trade_expire\n",
    ")"
   ]
  },
  {
   "cell_type": "markdown",
   "metadata": {},
   "source": []
  },
  {
   "cell_type": "markdown",
   "metadata": {},
   "source": [
    "#### Rates Streaming\n",
    "\n",
    "Create a custom streamer class to setup how you want to handle the data. Each tick is sent through the on_success and on_error functions. Since these methods are abstract methods, you need to override these methods to handle the streaming data.\n",
    "\n",
    "The following example prints count ticks from the stream then disconnects.\n",
    "\n",
    "class MyStreamer(oandapy.Streamer):\n",
    "    def __init__(self, count=10, *args, **kwargs):\n",
    "        super(MyStreamer, self).__init__(*args, **kwargs)\n",
    "        self.count = count\n",
    "        self.reccnt = 0\n",
    "\n",
    "    def on_success(self, data):\n",
    "        print data, \"\\n\"\n",
    "        self.reccnt += 1\n",
    "        if self.reccnt == self.count:\n",
    "            self.disconnect()\n",
    "\n",
    "    def on_error(self, data):\n",
    "        self.disconnect()"
   ]
  },
  {
   "cell_type": "markdown",
   "metadata": {},
   "source": [
    "Initialize an instance of your custom streamer, and start connecting to the stream. See http://developer.oanda.com/rest-live/streaming/ for further documentation.\n",
    "\n",
    "account = \"12345\"\n",
    "stream = MyStreamer(environment=\"practice\", access_token=\"abcdefghijk...\")\n",
    "stream.rates(account, instruments=\"EUR_USD,EUR_JPY,US30_USD,DE30_EUR\")\n",
    "The same procedure can be used for streaming events.\n",
    "\n",
    "stream = MyStreamer(environment=\"practice\", access_token=\"abcdefghijk...\")\n",
    "stream.events(ignore_heartbeat=False)"
   ]
  },
  {
   "cell_type": "code",
   "execution_count": 6,
   "metadata": {
    "collapsed": true
   },
   "outputs": [],
   "source": [
    "import configparser  # 1 \n",
    "import oandapy as opy  # 2\n",
    "\n"
   ]
  },
  {
   "cell_type": "code",
   "execution_count": 7,
   "metadata": {},
   "outputs": [
    {
     "data": {
      "text/plain": [
       "[]"
      ]
     },
     "execution_count": 7,
     "metadata": {},
     "output_type": "execute_result"
    }
   ],
   "source": [
    "config = configparser.ConfigParser()  # 3\n",
    "config.read('oanda.cfg')  # 4"
   ]
  },
  {
   "cell_type": "code",
   "execution_count": 9,
   "metadata": {},
   "outputs": [],
   "source": [
    "#oanda = opy.API(environment='practice',\n",
    "#                access_token=config['oanda']['access_token'])  # 5"
   ]
  },
  {
   "cell_type": "markdown",
   "metadata": {},
   "source": [
    "**Old API**"
   ]
  },
  {
   "cell_type": "markdown",
   "metadata": {
    "collapsed": true
   },
   "source": [
    "\"\"\n",
    "The main file that will evolve into our trading library\n",
    "\"\"\"\n",
    "\n",
    "\n",
    "\n",
    "\n",
    "\n",
    "from datetime import datetime\n",
    "import oandapy\n",
    "\n",
    "OANDA_ACCESS_TOKEN = \"YOUR_ACCESS_TOKEN\"\n",
    "\n",
    "\n",
    "\n",
    "OANDA_ACCOUNT_ID = 11111 #put your access id here \n",
    "\n",
    "\n",
    "\n",
    "\n",
    "def main():\n",
    "    print \"------ System online -------\", datetime.now()\n",
    "    oanda = oandapy.API(environment=\"practice\",\n",
    "                        access_token=OANDA_ACCESS_TOKEN)\n",
    "    response = oanda.get_prices(instruments=\"EUR_USD\")\n",
    "    prices = response.get(\"prices\")\n",
    "    buy_price = prices[0].get(\"bid\")\n",
    "\n",
    "    print \"Buy at\", buy_price\n",
    "    \n",
    "    trade_id = oanda.create_order(OANDA_ACCOUNT_ID, instrument=\"EUR_USD\",\n",
    "                                  units=1000,\n",
    "                                  side='buy',\n",
    "                                  type='market')\n",
    "\n",
    "    print \"Trading id\", trade_id\n",
    "\n",
    "\n",
    "if __name__ == \"__main__\":\n",
    "    main()"
   ]
  },
  {
   "cell_type": "markdown",
   "metadata": {},
   "source": [
    "import http.client\n",
    "import urllib\n",
    "import json\n",
    "import datetime\n",
    "\n",
    "#### This file contains some very simple calls against the OANDA API\n",
    "\n",
    "#### This demonstrates getting the current price of an instrument and trading if it is above a threshold\n",
    "def checkAndTrade():\n",
    "    conn = httplib.HTTPSConnection(\"api-sandbox.oanda.com\")\n",
    "    conn.request(\"GET\", \"/v1/prices?instruments=USD_CAD\")\n",
    "    response = conn.getresponse()\n",
    "    resptext = response.read()\n",
    "    if response.status == 200:\n",
    "        data = json.loads(resptext)\n",
    "        if data['prices'][0]['ask'] > 0.994:\n",
    "            headers = {\"Content-Type\" : \"application/x-www-form-urlencoded\"}\n",
    "            params = urllib.urlencode({\"instrument\" : \"USD_CAD\",\n",
    "                                       \"units\" : 50,\n",
    "                                       \"type\" : 'market',\n",
    "                                       \"side\" : \"buy\"})\n",
    "            conn.request(\"POST\", \"/v1/accounts/8026346/orders\", params, headers)\n",
    "            print( conn.getresponse().read())\n",
    "    else:\n",
    "        print( resptext)\n",
    "\n",
    "#### This sets up an order for the same price as above, which will execute a trade when the price crosses 0.994\n",
    "def order():\n",
    "    now = datetime.datetime.now()\n",
    "    expire = now + datetime.timedelta(days=1)\n",
    "    expire = expire.isoformat('T') + \"Z\"    \n",
    "    conn = httplib.HTTPSConnection(\"api-sandbox.oanda.com\")\n",
    "    params = urllib.urlencode({\"instrument\": \"USD_CAD\",\n",
    "                               \"units\" : 50,\n",
    "                               \"price\" : 0.994,\n",
    "                               \"expiry\" : expire,\n",
    "                               \"side\" : \"buy\",\n",
    "                               \"type\" : \"limit\"})\n",
    "    headers = {\"Content-Type\" : \"application/x-www-form-urlencoded\"}\n",
    "    conn.request(\"POST\", \"/v1/accounts/8026346/orders\", params, headers)\n",
    "    print(conn.getresponse().read())\n",
    "\n",
    "order()\n",
    "checkAndTrade()"
   ]
  },
  {
   "cell_type": "markdown",
   "metadata": {},
   "source": [
    "**install latest api version**\n",
    "\n",
    "pip install v20"
   ]
  },
  {
   "cell_type": "code",
   "execution_count": 15,
   "metadata": {
    "collapsed": true
   },
   "outputs": [],
   "source": [
    "import v20\n",
    "\n",
    "api = v20.Context(\n",
    "        'api-fxpractice.oanda.com',\n",
    "        '443',\n",
    "        token=access_token)"
   ]
  },
  {
   "cell_type": "markdown",
   "metadata": {},
   "source": [
    "and now let's place an order (buy 5000 units of EURUSD)"
   ]
  },
  {
   "cell_type": "code",
   "execution_count": 53,
   "metadata": {},
   "outputs": [
    {
     "name": "stdout",
     "output_type": "stream",
     "text": [
      "Response: 400 (Bad Request)\n"
     ]
    }
   ],
   "source": [
    "response = api.order.market(\n",
    "             'unltd148',\n",
    "             instrument='EUR_USD',\n",
    "             units=5000)\n",
    "\n",
    "print(\"Response: {} ({})\".format(response.status, response.reason))\n"
   ]
  },
  {
   "cell_type": "markdown",
   "metadata": {},
   "source": [
    "Check the current price is as easy!"
   ]
  },
  {
   "cell_type": "code",
   "execution_count": 54,
   "metadata": {
    "collapsed": true
   },
   "outputs": [],
   "source": [
    "from datetime import datetime\n",
    "\n",
    "latest_price_time = datetime.utcnow().isoformat('T')+'Z',\n",
    "\n",
    "response = api.pricing.get(\n",
    "                'unltd148',\n",
    "                instruments='EUR_USD',\n",
    "                since=latest_price_time,\n",
    "                includeUnitsAvailable=False)\n",
    "\n"
   ]
  },
  {
   "cell_type": "markdown",
   "metadata": {},
   "source": [
    "\n",
    "for price in response.get():\n",
    "        "
   ]
  },
  {
   "cell_type": "markdown",
   "metadata": {},
   "source": [
    "from http.client import Http.client\n",
    "\n",
    "http_client = HttpClient()\n",
    "\n",
    "\n",
    "page = http_client.get(\"http://www.google.com\")\n",
    "\n",
    "print(page.content_as_string)"
   ]
  },
  {
   "cell_type": "markdown",
   "metadata": {},
   "source": [
    "#### Backtesting\n",
    "\n",
    "We have already set up everything needed to get started with the backtesting of the momentum strategy. In particular, we are able to retrieve historical data from Oanda. The instrument we use is EUR_USD and is based on the EUR/USD exchange rate.\n",
    "\n",
    "The first step in backtesting is to retrieve the data and to convert it to a pandas DataFrame object. The data set itself is for the two days December 8 and 9, 2016, and has a granularity of one minute. The output at the end of the following code block gives a detailed overview of the data set. It is used to implement the backtesting of the trading strategy."
   ]
  },
  {
   "cell_type": "code",
   "execution_count": 65,
   "metadata": {},
   "outputs": [
    {
     "name": "stdout",
     "output_type": "stream",
     "text": [
      "<class 'pandas.core.frame.DataFrame'>\n",
      "DatetimeIndex: 2658 entries, 2016-12-08 00:00:00 to 2016-12-09 21:59:00\n",
      "Data columns (total 10 columns):\n",
      "closeAsk    2658 non-null float64\n",
      "closeBid    2658 non-null float64\n",
      "complete    2658 non-null bool\n",
      "highAsk     2658 non-null float64\n",
      "highBid     2658 non-null float64\n",
      "lowAsk      2658 non-null float64\n",
      "lowBid      2658 non-null float64\n",
      "openAsk     2658 non-null float64\n",
      "openBid     2658 non-null float64\n",
      "volume      2658 non-null int64\n",
      "dtypes: bool(1), float64(8), int64(1)\n",
      "memory usage: 210.3 KB\n"
     ]
    }
   ],
   "source": [
    "import pandas as pd  # 6\n",
    "\n",
    "data = oanda.get_history(instrument='EUR_USD',  # our instrument\n",
    "                         start='2016-12-08',  # start date\n",
    "                         end='2016-12-10',  # end date\n",
    "                         granularity='M1')  # minute bars  # 7\n",
    "\n",
    "df = pd.DataFrame(data['candles']).set_index('time')  # 8\n",
    "\n",
    "df.index = pd.DatetimeIndex(df.index)  # 9\n",
    "\n",
    "df.info() # 10"
   ]
  },
  {
   "cell_type": "code",
   "execution_count": 120,
   "metadata": {},
   "outputs": [
    {
     "data": {
      "text/html": [
       "<div>\n",
       "<style scoped>\n",
       "    .dataframe tbody tr th:only-of-type {\n",
       "        vertical-align: middle;\n",
       "    }\n",
       "\n",
       "    .dataframe tbody tr th {\n",
       "        vertical-align: top;\n",
       "    }\n",
       "\n",
       "    .dataframe thead th {\n",
       "        text-align: right;\n",
       "    }\n",
       "</style>\n",
       "<table border=\"1\" class=\"dataframe\">\n",
       "  <thead>\n",
       "    <tr style=\"text-align: right;\">\n",
       "      <th></th>\n",
       "      <th>closeAsk</th>\n",
       "      <th>closeBid</th>\n",
       "      <th>complete</th>\n",
       "      <th>highAsk</th>\n",
       "      <th>highBid</th>\n",
       "      <th>lowAsk</th>\n",
       "      <th>lowBid</th>\n",
       "      <th>openAsk</th>\n",
       "      <th>openBid</th>\n",
       "      <th>volume</th>\n",
       "    </tr>\n",
       "    <tr>\n",
       "      <th>time</th>\n",
       "      <th></th>\n",
       "      <th></th>\n",
       "      <th></th>\n",
       "      <th></th>\n",
       "      <th></th>\n",
       "      <th></th>\n",
       "      <th></th>\n",
       "      <th></th>\n",
       "      <th></th>\n",
       "      <th></th>\n",
       "    </tr>\n",
       "  </thead>\n",
       "  <tbody>\n",
       "    <tr>\n",
       "      <th>2016-12-08 00:00:00</th>\n",
       "      <td>1.07602</td>\n",
       "      <td>1.07584</td>\n",
       "      <td>True</td>\n",
       "      <td>1.07602</td>\n",
       "      <td>1.07584</td>\n",
       "      <td>1.07585</td>\n",
       "      <td>1.07569</td>\n",
       "      <td>1.07598</td>\n",
       "      <td>1.07582</td>\n",
       "      <td>13</td>\n",
       "    </tr>\n",
       "    <tr>\n",
       "      <th>2016-12-08 00:01:00</th>\n",
       "      <td>1.07609</td>\n",
       "      <td>1.07592</td>\n",
       "      <td>True</td>\n",
       "      <td>1.07617</td>\n",
       "      <td>1.07602</td>\n",
       "      <td>1.07604</td>\n",
       "      <td>1.07588</td>\n",
       "      <td>1.07604</td>\n",
       "      <td>1.07588</td>\n",
       "      <td>10</td>\n",
       "    </tr>\n",
       "    <tr>\n",
       "      <th>2016-12-08 00:02:00</th>\n",
       "      <td>1.07617</td>\n",
       "      <td>1.07602</td>\n",
       "      <td>True</td>\n",
       "      <td>1.07617</td>\n",
       "      <td>1.07602</td>\n",
       "      <td>1.07606</td>\n",
       "      <td>1.07590</td>\n",
       "      <td>1.07606</td>\n",
       "      <td>1.07590</td>\n",
       "      <td>6</td>\n",
       "    </tr>\n",
       "    <tr>\n",
       "      <th>2016-12-08 00:03:00</th>\n",
       "      <td>1.07644</td>\n",
       "      <td>1.07628</td>\n",
       "      <td>True</td>\n",
       "      <td>1.07649</td>\n",
       "      <td>1.07633</td>\n",
       "      <td>1.07620</td>\n",
       "      <td>1.07604</td>\n",
       "      <td>1.07620</td>\n",
       "      <td>1.07604</td>\n",
       "      <td>16</td>\n",
       "    </tr>\n",
       "    <tr>\n",
       "      <th>2016-12-08 00:04:00</th>\n",
       "      <td>1.07641</td>\n",
       "      <td>1.07626</td>\n",
       "      <td>True</td>\n",
       "      <td>1.07641</td>\n",
       "      <td>1.07626</td>\n",
       "      <td>1.07641</td>\n",
       "      <td>1.07626</td>\n",
       "      <td>1.07641</td>\n",
       "      <td>1.07626</td>\n",
       "      <td>1</td>\n",
       "    </tr>\n",
       "  </tbody>\n",
       "</table>\n",
       "</div>"
      ],
      "text/plain": [
       "                     closeAsk  closeBid  complete  highAsk  highBid   lowAsk  \\\n",
       "time                                                                           \n",
       "2016-12-08 00:00:00   1.07602   1.07584      True  1.07602  1.07584  1.07585   \n",
       "2016-12-08 00:01:00   1.07609   1.07592      True  1.07617  1.07602  1.07604   \n",
       "2016-12-08 00:02:00   1.07617   1.07602      True  1.07617  1.07602  1.07606   \n",
       "2016-12-08 00:03:00   1.07644   1.07628      True  1.07649  1.07633  1.07620   \n",
       "2016-12-08 00:04:00   1.07641   1.07626      True  1.07641  1.07626  1.07641   \n",
       "\n",
       "                      lowBid  openAsk  openBid  volume  \n",
       "time                                                    \n",
       "2016-12-08 00:00:00  1.07569  1.07598  1.07582      13  \n",
       "2016-12-08 00:01:00  1.07588  1.07604  1.07588      10  \n",
       "2016-12-08 00:02:00  1.07590  1.07606  1.07590       6  \n",
       "2016-12-08 00:03:00  1.07604  1.07620  1.07604      16  \n",
       "2016-12-08 00:04:00  1.07626  1.07641  1.07626       1  "
      ]
     },
     "execution_count": 120,
     "metadata": {},
     "output_type": "execute_result"
    }
   ],
   "source": [
    "df.head()"
   ]
  },
  {
   "cell_type": "markdown",
   "metadata": {},
   "source": [
    "**Strategy:** I chose a time series momentum strategy (cf. Moskowitz, Tobias, Yao Hua Ooi, and Lasse Heje Pedersen (2012): \"Time Series Momentum.\" Journal of Financial Economics, Vol. 104, 228-250.), which basically assumes that a financial instrument that has performed well/badly will continue to do so.\n",
    "\n",
    "Second, we formalize the momentum strategy by telling Python to take the mean log return over the last 15, 30, 60, and 120 minute bars to derive the position in the instrument. For example, the mean log return for the last 15 minute bars gives the average value of the last 15 return observations. If this value is positive, we go/stay long the traded instrument; if it is negative we go/stay short. To simplify the the code that follows, we just rely on the closeAsk values we retrieved via our previous block of code:"
   ]
  },
  {
   "cell_type": "code",
   "execution_count": 68,
   "metadata": {},
   "outputs": [],
   "source": [
    "import numpy as np  # 11\n",
    "#return =todays closing price-previous day closing price\n",
    "df['returns'] = np.log(df['closeAsk'] / df['closeAsk'].shift(1))  # 12\n",
    "\n",
    "cols = []  # 13\n",
    "\n",
    "for momentum in [15, 30, 60, 120]:  # 14\n",
    "    col = 'position_%s' % momentum  # 15\n",
    "    #np.sign converts contents into 1 for positive elements and -1 for negative elements\n",
    "    df[col] = np.sign(df['returns'].rolling(momentum).mean())  # 16\n",
    "    cols.append(col)  # 17"
   ]
  },
  {
   "cell_type": "code",
   "execution_count": 33,
   "metadata": {},
   "outputs": [
    {
     "data": {
      "text/plain": [
       "time\n",
       "2016-12-08 00:00:00         NaN\n",
       "2016-12-08 00:01:00    1.000065\n",
       "Name: closeAsk, dtype: float64"
      ]
     },
     "execution_count": 33,
     "metadata": {},
     "output_type": "execute_result"
    }
   ],
   "source": [
    "(df['closeAsk'] / df['closeAsk'].shift(1)).head(2)"
   ]
  },
  {
   "cell_type": "code",
   "execution_count": 138,
   "metadata": {},
   "outputs": [
    {
     "data": {
      "text/plain": [
       "1.0000650545528893"
      ]
     },
     "execution_count": 138,
     "metadata": {},
     "output_type": "execute_result"
    }
   ],
   "source": [
    "#shift(1)  selects the second element\n",
    "1.07609/1.07602"
   ]
  },
  {
   "cell_type": "code",
   "execution_count": 141,
   "metadata": {},
   "outputs": [
    {
     "data": {
      "text/plain": [
       "time\n",
       "2016-12-08 00:00:00        NaN\n",
       "2016-12-08 00:01:00    0.00007\n",
       "2016-12-08 00:02:00    0.00008\n",
       "Name: closeAsk, dtype: float64"
      ]
     },
     "execution_count": 141,
     "metadata": {},
     "output_type": "execute_result"
    }
   ],
   "source": [
    "(df['closeAsk'] - df['closeAsk'].shift(1)).head(3)"
   ]
  },
  {
   "cell_type": "code",
   "execution_count": 144,
   "metadata": {},
   "outputs": [
    {
     "data": {
      "text/plain": [
       "time\n",
       "2016-12-08 00:00:00         NaN\n",
       "2016-12-08 00:01:00    0.000065\n",
       "2016-12-08 00:02:00    0.000074\n",
       "Name: closeAsk, dtype: float64"
      ]
     },
     "execution_count": 144,
     "metadata": {},
     "output_type": "execute_result"
    }
   ],
   "source": [
    "np.log((df['closeAsk']/ df['closeAsk'].shift(1)).head(3))"
   ]
  },
  {
   "cell_type": "code",
   "execution_count": 67,
   "metadata": {},
   "outputs": [
    {
     "data": {
      "text/html": [
       "<div>\n",
       "<style scoped>\n",
       "    .dataframe tbody tr th:only-of-type {\n",
       "        vertical-align: middle;\n",
       "    }\n",
       "\n",
       "    .dataframe tbody tr th {\n",
       "        vertical-align: top;\n",
       "    }\n",
       "\n",
       "    .dataframe thead th {\n",
       "        text-align: right;\n",
       "    }\n",
       "</style>\n",
       "<table border=\"1\" class=\"dataframe\">\n",
       "  <thead>\n",
       "    <tr style=\"text-align: right;\">\n",
       "      <th></th>\n",
       "      <th>closeAsk</th>\n",
       "      <th>closeBid</th>\n",
       "      <th>complete</th>\n",
       "      <th>highAsk</th>\n",
       "      <th>highBid</th>\n",
       "      <th>lowAsk</th>\n",
       "      <th>lowBid</th>\n",
       "      <th>openAsk</th>\n",
       "      <th>openBid</th>\n",
       "      <th>volume</th>\n",
       "      <th>returns</th>\n",
       "      <th>position_15</th>\n",
       "      <th>position_30</th>\n",
       "      <th>position_60</th>\n",
       "      <th>position_120</th>\n",
       "    </tr>\n",
       "    <tr>\n",
       "      <th>time</th>\n",
       "      <th></th>\n",
       "      <th></th>\n",
       "      <th></th>\n",
       "      <th></th>\n",
       "      <th></th>\n",
       "      <th></th>\n",
       "      <th></th>\n",
       "      <th></th>\n",
       "      <th></th>\n",
       "      <th></th>\n",
       "      <th></th>\n",
       "      <th></th>\n",
       "      <th></th>\n",
       "      <th></th>\n",
       "      <th></th>\n",
       "    </tr>\n",
       "  </thead>\n",
       "  <tbody>\n",
       "    <tr>\n",
       "      <th>2016-12-08 00:00:00</th>\n",
       "      <td>1.07602</td>\n",
       "      <td>1.07584</td>\n",
       "      <td>True</td>\n",
       "      <td>1.07602</td>\n",
       "      <td>1.07584</td>\n",
       "      <td>1.07585</td>\n",
       "      <td>1.07569</td>\n",
       "      <td>1.07598</td>\n",
       "      <td>1.07582</td>\n",
       "      <td>13</td>\n",
       "      <td>NaN</td>\n",
       "      <td>NaN</td>\n",
       "      <td>NaN</td>\n",
       "      <td>NaN</td>\n",
       "      <td>NaN</td>\n",
       "    </tr>\n",
       "    <tr>\n",
       "      <th>2016-12-08 00:01:00</th>\n",
       "      <td>1.07609</td>\n",
       "      <td>1.07592</td>\n",
       "      <td>True</td>\n",
       "      <td>1.07617</td>\n",
       "      <td>1.07602</td>\n",
       "      <td>1.07604</td>\n",
       "      <td>1.07588</td>\n",
       "      <td>1.07604</td>\n",
       "      <td>1.07588</td>\n",
       "      <td>10</td>\n",
       "      <td>0.000065</td>\n",
       "      <td>NaN</td>\n",
       "      <td>NaN</td>\n",
       "      <td>NaN</td>\n",
       "      <td>NaN</td>\n",
       "    </tr>\n",
       "    <tr>\n",
       "      <th>2016-12-08 00:02:00</th>\n",
       "      <td>1.07617</td>\n",
       "      <td>1.07602</td>\n",
       "      <td>True</td>\n",
       "      <td>1.07617</td>\n",
       "      <td>1.07602</td>\n",
       "      <td>1.07606</td>\n",
       "      <td>1.07590</td>\n",
       "      <td>1.07606</td>\n",
       "      <td>1.07590</td>\n",
       "      <td>6</td>\n",
       "      <td>0.000074</td>\n",
       "      <td>NaN</td>\n",
       "      <td>NaN</td>\n",
       "      <td>NaN</td>\n",
       "      <td>NaN</td>\n",
       "    </tr>\n",
       "  </tbody>\n",
       "</table>\n",
       "</div>"
      ],
      "text/plain": [
       "                     closeAsk  closeBid  complete  highAsk  highBid   lowAsk  \\\n",
       "time                                                                           \n",
       "2016-12-08 00:00:00   1.07602   1.07584      True  1.07602  1.07584  1.07585   \n",
       "2016-12-08 00:01:00   1.07609   1.07592      True  1.07617  1.07602  1.07604   \n",
       "2016-12-08 00:02:00   1.07617   1.07602      True  1.07617  1.07602  1.07606   \n",
       "\n",
       "                      lowBid  openAsk  openBid  volume   returns  position_15  \\\n",
       "time                                                                            \n",
       "2016-12-08 00:00:00  1.07569  1.07598  1.07582      13       NaN          NaN   \n",
       "2016-12-08 00:01:00  1.07588  1.07604  1.07588      10  0.000065          NaN   \n",
       "2016-12-08 00:02:00  1.07590  1.07606  1.07590       6  0.000074          NaN   \n",
       "\n",
       "                     position_30  position_60  position_120  \n",
       "time                                                         \n",
       "2016-12-08 00:00:00          NaN          NaN           NaN  \n",
       "2016-12-08 00:01:00          NaN          NaN           NaN  \n",
       "2016-12-08 00:02:00          NaN          NaN           NaN  "
      ]
     },
     "execution_count": 67,
     "metadata": {},
     "output_type": "execute_result"
    }
   ],
   "source": [
    "df.head(3)"
   ]
  },
  {
   "cell_type": "code",
   "execution_count": 49,
   "metadata": {},
   "outputs": [
    {
     "data": {
      "text/html": [
       "<div>\n",
       "<style scoped>\n",
       "    .dataframe tbody tr th:only-of-type {\n",
       "        vertical-align: middle;\n",
       "    }\n",
       "\n",
       "    .dataframe tbody tr th {\n",
       "        vertical-align: top;\n",
       "    }\n",
       "\n",
       "    .dataframe thead th {\n",
       "        text-align: right;\n",
       "    }\n",
       "</style>\n",
       "<table border=\"1\" class=\"dataframe\">\n",
       "  <thead>\n",
       "    <tr style=\"text-align: right;\">\n",
       "      <th></th>\n",
       "      <th>B</th>\n",
       "    </tr>\n",
       "  </thead>\n",
       "  <tbody>\n",
       "    <tr>\n",
       "      <th>0</th>\n",
       "      <td>NaN</td>\n",
       "    </tr>\n",
       "    <tr>\n",
       "      <th>1</th>\n",
       "      <td>NaN</td>\n",
       "    </tr>\n",
       "    <tr>\n",
       "      <th>2</th>\n",
       "      <td>NaN</td>\n",
       "    </tr>\n",
       "    <tr>\n",
       "      <th>3</th>\n",
       "      <td>NaN</td>\n",
       "    </tr>\n",
       "    <tr>\n",
       "      <th>4</th>\n",
       "      <td>2.0</td>\n",
       "    </tr>\n",
       "    <tr>\n",
       "      <th>5</th>\n",
       "      <td>3.2</td>\n",
       "    </tr>\n",
       "  </tbody>\n",
       "</table>\n",
       "</div>"
      ],
      "text/plain": [
       "     B\n",
       "0  NaN\n",
       "1  NaN\n",
       "2  NaN\n",
       "3  NaN\n",
       "4  2.0\n",
       "5  3.2"
      ]
     },
     "execution_count": 49,
     "metadata": {},
     "output_type": "execute_result"
    }
   ],
   "source": [
    "#find the mean of every  5 consequetive numbers\n",
    "df = pd.DataFrame({'B': [0, 1, 2, 3, 4,6]})\n",
    "df.rolling(5).mean()"
   ]
  },
  {
   "cell_type": "code",
   "execution_count": 62,
   "metadata": {},
   "outputs": [
    {
     "data": {
      "text/html": [
       "<div>\n",
       "<style scoped>\n",
       "    .dataframe tbody tr th:only-of-type {\n",
       "        vertical-align: middle;\n",
       "    }\n",
       "\n",
       "    .dataframe tbody tr th {\n",
       "        vertical-align: top;\n",
       "    }\n",
       "\n",
       "    .dataframe thead th {\n",
       "        text-align: right;\n",
       "    }\n",
       "</style>\n",
       "<table border=\"1\" class=\"dataframe\">\n",
       "  <thead>\n",
       "    <tr style=\"text-align: right;\">\n",
       "      <th></th>\n",
       "      <th>B</th>\n",
       "    </tr>\n",
       "  </thead>\n",
       "  <tbody>\n",
       "    <tr>\n",
       "      <th>0</th>\n",
       "      <td>NaN</td>\n",
       "    </tr>\n",
       "    <tr>\n",
       "      <th>1</th>\n",
       "      <td>0.0</td>\n",
       "    </tr>\n",
       "    <tr>\n",
       "      <th>2</th>\n",
       "      <td>1.0</td>\n",
       "    </tr>\n",
       "    <tr>\n",
       "      <th>3</th>\n",
       "      <td>2.0</td>\n",
       "    </tr>\n",
       "    <tr>\n",
       "      <th>4</th>\n",
       "      <td>3.0</td>\n",
       "    </tr>\n",
       "    <tr>\n",
       "      <th>5</th>\n",
       "      <td>4.0</td>\n",
       "    </tr>\n",
       "  </tbody>\n",
       "</table>\n",
       "</div>"
      ],
      "text/plain": [
       "     B\n",
       "0  NaN\n",
       "1  0.0\n",
       "2  1.0\n",
       "3  2.0\n",
       "4  3.0\n",
       "5  4.0"
      ]
     },
     "execution_count": 62,
     "metadata": {},
     "output_type": "execute_result"
    }
   ],
   "source": [
    "#find the mean of every  5 consequetive numbers\n",
    "df = pd.DataFrame({'B': [0, 1, 2, 3, 4,6]})\n",
    "df.rolling(5, min_periods=1).mean()\n",
    "\n",
    "df.shift(1)"
   ]
  },
  {
   "cell_type": "code",
   "execution_count": 177,
   "metadata": {},
   "outputs": [
    {
     "data": {
      "text/html": [
       "<div>\n",
       "<style scoped>\n",
       "    .dataframe tbody tr th:only-of-type {\n",
       "        vertical-align: middle;\n",
       "    }\n",
       "\n",
       "    .dataframe tbody tr th {\n",
       "        vertical-align: top;\n",
       "    }\n",
       "\n",
       "    .dataframe thead th {\n",
       "        text-align: right;\n",
       "    }\n",
       "</style>\n",
       "<table border=\"1\" class=\"dataframe\">\n",
       "  <thead>\n",
       "    <tr style=\"text-align: right;\">\n",
       "      <th></th>\n",
       "      <th>closeAsk</th>\n",
       "      <th>closeBid</th>\n",
       "      <th>complete</th>\n",
       "      <th>highAsk</th>\n",
       "      <th>highBid</th>\n",
       "      <th>lowAsk</th>\n",
       "      <th>lowBid</th>\n",
       "      <th>openAsk</th>\n",
       "      <th>openBid</th>\n",
       "      <th>volume</th>\n",
       "      <th>returns</th>\n",
       "      <th>position_15</th>\n",
       "      <th>position_30</th>\n",
       "      <th>position_60</th>\n",
       "      <th>position_120</th>\n",
       "      <th>strategy_15</th>\n",
       "      <th>strategy_30</th>\n",
       "      <th>strategy_60</th>\n",
       "      <th>strategy_120</th>\n",
       "    </tr>\n",
       "    <tr>\n",
       "      <th>time</th>\n",
       "      <th></th>\n",
       "      <th></th>\n",
       "      <th></th>\n",
       "      <th></th>\n",
       "      <th></th>\n",
       "      <th></th>\n",
       "      <th></th>\n",
       "      <th></th>\n",
       "      <th></th>\n",
       "      <th></th>\n",
       "      <th></th>\n",
       "      <th></th>\n",
       "      <th></th>\n",
       "      <th></th>\n",
       "      <th></th>\n",
       "      <th></th>\n",
       "      <th></th>\n",
       "      <th></th>\n",
       "      <th></th>\n",
       "    </tr>\n",
       "  </thead>\n",
       "  <tbody>\n",
       "    <tr>\n",
       "      <th>2016-12-08 00:00:00</th>\n",
       "      <td>1.07602</td>\n",
       "      <td>1.07584</td>\n",
       "      <td>True</td>\n",
       "      <td>1.07602</td>\n",
       "      <td>1.07584</td>\n",
       "      <td>1.07585</td>\n",
       "      <td>1.07569</td>\n",
       "      <td>1.07598</td>\n",
       "      <td>1.07582</td>\n",
       "      <td>13</td>\n",
       "      <td>NaN</td>\n",
       "      <td>NaN</td>\n",
       "      <td>NaN</td>\n",
       "      <td>NaN</td>\n",
       "      <td>NaN</td>\n",
       "      <td>NaN</td>\n",
       "      <td>NaN</td>\n",
       "      <td>NaN</td>\n",
       "      <td>NaN</td>\n",
       "    </tr>\n",
       "    <tr>\n",
       "      <th>2016-12-08 00:01:00</th>\n",
       "      <td>1.07609</td>\n",
       "      <td>1.07592</td>\n",
       "      <td>True</td>\n",
       "      <td>1.07617</td>\n",
       "      <td>1.07602</td>\n",
       "      <td>1.07604</td>\n",
       "      <td>1.07588</td>\n",
       "      <td>1.07604</td>\n",
       "      <td>1.07588</td>\n",
       "      <td>10</td>\n",
       "      <td>0.000065</td>\n",
       "      <td>NaN</td>\n",
       "      <td>NaN</td>\n",
       "      <td>NaN</td>\n",
       "      <td>NaN</td>\n",
       "      <td>NaN</td>\n",
       "      <td>NaN</td>\n",
       "      <td>NaN</td>\n",
       "      <td>NaN</td>\n",
       "    </tr>\n",
       "    <tr>\n",
       "      <th>2016-12-08 00:02:00</th>\n",
       "      <td>1.07617</td>\n",
       "      <td>1.07602</td>\n",
       "      <td>True</td>\n",
       "      <td>1.07617</td>\n",
       "      <td>1.07602</td>\n",
       "      <td>1.07606</td>\n",
       "      <td>1.07590</td>\n",
       "      <td>1.07606</td>\n",
       "      <td>1.07590</td>\n",
       "      <td>6</td>\n",
       "      <td>0.000074</td>\n",
       "      <td>NaN</td>\n",
       "      <td>NaN</td>\n",
       "      <td>NaN</td>\n",
       "      <td>NaN</td>\n",
       "      <td>NaN</td>\n",
       "      <td>NaN</td>\n",
       "      <td>NaN</td>\n",
       "      <td>NaN</td>\n",
       "    </tr>\n",
       "  </tbody>\n",
       "</table>\n",
       "</div>"
      ],
      "text/plain": [
       "                     closeAsk  closeBid  complete  highAsk  highBid   lowAsk  \\\n",
       "time                                                                           \n",
       "2016-12-08 00:00:00   1.07602   1.07584      True  1.07602  1.07584  1.07585   \n",
       "2016-12-08 00:01:00   1.07609   1.07592      True  1.07617  1.07602  1.07604   \n",
       "2016-12-08 00:02:00   1.07617   1.07602      True  1.07617  1.07602  1.07606   \n",
       "\n",
       "                      lowBid  openAsk  openBid  volume   returns  position_15  \\\n",
       "time                                                                            \n",
       "2016-12-08 00:00:00  1.07569  1.07598  1.07582      13       NaN          NaN   \n",
       "2016-12-08 00:01:00  1.07588  1.07604  1.07588      10  0.000065          NaN   \n",
       "2016-12-08 00:02:00  1.07590  1.07606  1.07590       6  0.000074          NaN   \n",
       "\n",
       "                     position_30  position_60  position_120  strategy_15  \\\n",
       "time                                                                       \n",
       "2016-12-08 00:00:00          NaN          NaN           NaN          NaN   \n",
       "2016-12-08 00:01:00          NaN          NaN           NaN          NaN   \n",
       "2016-12-08 00:02:00          NaN          NaN           NaN          NaN   \n",
       "\n",
       "                     strategy_30  strategy_60  strategy_120  \n",
       "time                                                         \n",
       "2016-12-08 00:00:00          NaN          NaN           NaN  \n",
       "2016-12-08 00:01:00          NaN          NaN           NaN  \n",
       "2016-12-08 00:02:00          NaN          NaN           NaN  "
      ]
     },
     "execution_count": 177,
     "metadata": {},
     "output_type": "execute_result"
    }
   ],
   "source": [
    "df.head(3)\n"
   ]
  },
  {
   "cell_type": "markdown",
   "metadata": {},
   "source": [
    "Third, to derive the absolute performance of the momentum strategy for the different momentum intervals (in minutes), you need to multiply the positionings derived above (shifted by one day) by the market returns. Here’s how to do that:\n",
    "\n"
   ]
  },
  {
   "cell_type": "code",
   "execution_count": 72,
   "metadata": {},
   "outputs": [
    {
     "data": {
      "image/png": "[encoded data removed]",
      "text/plain": [
       "<matplotlib.figure.Figure at 0x1a1f968208>"
      ]
     },
     "metadata": {},
     "output_type": "display_data"
    },
    {
     "data": {
      "image/png": "[encoded data removed]",
      "text/plain": [
       "<matplotlib.figure.Figure at 0x1a1fb02668>"
      ]
     },
     "metadata": {},
     "output_type": "display_data"
    },
    {
     "data": {
      "image/png": "[encoded data removed]",
      "text/plain": [
       "<matplotlib.figure.Figure at 0x1a1fb8d668>"
      ]
     },
     "metadata": {},
     "output_type": "display_data"
    },
    {
     "data": {
      "image/png": "[encoded data removed]",
      "text/plain": [
       "<matplotlib.figure.Figure at 0x1a1fbee9e8>"
      ]
     },
     "metadata": {},
     "output_type": "display_data"
    }
   ],
   "source": [
    "%matplotlib inline\n",
    "import seaborn as sns; sns.set()  # 18\n",
    "\n",
    "strats = ['returns']  # 19\n",
    "\n",
    "for col in cols:  # 20\n",
    "    strat = 'strategy_%s' % col.split('_')[1]  # 21\n",
    "    df[strat] = df[col].shift(1) * df['returns']  # 22\n",
    "    strats.append(strat)  # 23\n",
    "    df[strats].dropna().cumsum().apply(np.exp).plot()  # 24\n"
   ]
  },
  {
   "cell_type": "code",
   "execution_count": 70,
   "metadata": {
    "collapsed": true
   },
   "outputs": [],
   "source": [
    "strats = ['returns']"
   ]
  },
  {
   "cell_type": "code",
   "execution_count": 79,
   "metadata": {},
   "outputs": [
    {
     "data": {
      "text/html": [
       "<div>\n",
       "<style scoped>\n",
       "    .dataframe tbody tr th:only-of-type {\n",
       "        vertical-align: middle;\n",
       "    }\n",
       "\n",
       "    .dataframe tbody tr th {\n",
       "        vertical-align: top;\n",
       "    }\n",
       "\n",
       "    .dataframe thead th {\n",
       "        text-align: right;\n",
       "    }\n",
       "</style>\n",
       "<table border=\"1\" class=\"dataframe\">\n",
       "  <thead>\n",
       "    <tr style=\"text-align: right;\">\n",
       "      <th></th>\n",
       "      <th>returns</th>\n",
       "      <th>strategy_15</th>\n",
       "      <th>strategy_30</th>\n",
       "      <th>strategy_60</th>\n",
       "      <th>strategy_120</th>\n",
       "    </tr>\n",
       "    <tr>\n",
       "      <th>time</th>\n",
       "      <th></th>\n",
       "      <th></th>\n",
       "      <th></th>\n",
       "      <th></th>\n",
       "      <th></th>\n",
       "    </tr>\n",
       "  </thead>\n",
       "  <tbody>\n",
       "    <tr>\n",
       "      <th>2016-12-08 02:13:00</th>\n",
       "      <td>-0.000121</td>\n",
       "      <td>-0.000121</td>\n",
       "      <td>-0.000121</td>\n",
       "      <td>-0.000121</td>\n",
       "      <td>-0.000121</td>\n",
       "    </tr>\n",
       "    <tr>\n",
       "      <th>2016-12-08 02:14:00</th>\n",
       "      <td>-0.000139</td>\n",
       "      <td>-0.000139</td>\n",
       "      <td>-0.000139</td>\n",
       "      <td>-0.000139</td>\n",
       "      <td>-0.000139</td>\n",
       "    </tr>\n",
       "    <tr>\n",
       "      <th>2016-12-08 02:15:00</th>\n",
       "      <td>-0.000074</td>\n",
       "      <td>-0.000074</td>\n",
       "      <td>-0.000074</td>\n",
       "      <td>-0.000074</td>\n",
       "      <td>-0.000074</td>\n",
       "    </tr>\n",
       "    <tr>\n",
       "      <th>2016-12-08 02:16:00</th>\n",
       "      <td>-0.000167</td>\n",
       "      <td>-0.000167</td>\n",
       "      <td>-0.000167</td>\n",
       "      <td>-0.000167</td>\n",
       "      <td>-0.000167</td>\n",
       "    </tr>\n",
       "  </tbody>\n",
       "</table>\n",
       "</div>"
      ],
      "text/plain": [
       "                      returns  strategy_15  strategy_30  strategy_60  \\\n",
       "time                                                                   \n",
       "2016-12-08 02:13:00 -0.000121    -0.000121    -0.000121    -0.000121   \n",
       "2016-12-08 02:14:00 -0.000139    -0.000139    -0.000139    -0.000139   \n",
       "2016-12-08 02:15:00 -0.000074    -0.000074    -0.000074    -0.000074   \n",
       "2016-12-08 02:16:00 -0.000167    -0.000167    -0.000167    -0.000167   \n",
       "\n",
       "                     strategy_120  \n",
       "time                               \n",
       "2016-12-08 02:13:00     -0.000121  \n",
       "2016-12-08 02:14:00     -0.000139  \n",
       "2016-12-08 02:15:00     -0.000074  \n",
       "2016-12-08 02:16:00     -0.000167  "
      ]
     },
     "execution_count": 79,
     "metadata": {},
     "output_type": "execute_result"
    }
   ],
   "source": [
    "df[strats].head(4)\n",
    "df[strats].dropna().head(3)\n",
    "df[strats].dropna().cumsum().head(4)"
   ]
  },
  {
   "cell_type": "code",
   "execution_count": 172,
   "metadata": {},
   "outputs": [
    {
     "data": {
      "text/plain": [
       "'position_15'"
      ]
     },
     "execution_count": 172,
     "metadata": {},
     "output_type": "execute_result"
    }
   ],
   "source": [
    "'position_'+'15'"
   ]
  },
  {
   "cell_type": "code",
   "execution_count": 181,
   "metadata": {},
   "outputs": [
    {
     "data": {
      "text/plain": [
       "array([ 1., -1.,  1., -1.])"
      ]
     },
     "execution_count": 181,
     "metadata": {},
     "output_type": "execute_result"
    }
   ],
   "source": [
    "np.sign([1,-2,0.5,-0.3])"
   ]
  },
  {
   "cell_type": "code",
   "execution_count": 206,
   "metadata": {},
   "outputs": [
    {
     "data": {
      "text/plain": [
       "\"strategy_['position', '120']\""
      ]
     },
     "execution_count": 206,
     "metadata": {},
     "output_type": "execute_result"
    }
   ],
   "source": [
    "'strategy_%s' % col.split('_')"
   ]
  },
  {
   "cell_type": "code",
   "execution_count": 208,
   "metadata": {},
   "outputs": [
    {
     "data": {
      "text/plain": [
       "['position', '120']"
      ]
     },
     "execution_count": 208,
     "metadata": {},
     "output_type": "execute_result"
    }
   ],
   "source": [
    "col.split(\"_\")"
   ]
  },
  {
   "cell_type": "code",
   "execution_count": 209,
   "metadata": {
    "collapsed": true
   },
   "outputs": [],
   "source": [
    "strats = ['returns']"
   ]
  },
  {
   "cell_type": "markdown",
   "metadata": {
    "collapsed": true
   },
   "source": [
    "Inspection of the plot above reveals that, over the period of the data set, the traded instrument itself has a negative performance of about -2%. Among the momentum strategies, the one based on 120 minutes performs best with a positive return of about 1.5% (ignoring the bid/ask spread). In principle, this strategy shows \"real alpha\": it generates a positive return even when the instrument itself shows a negative one.\n",
    "\n",
    "#### Automated Trading\n",
    "\n",
    "Once you have decided on which trading strategy to implement, you are ready to automate the trading operation. To speed up things, I am implementing the automated trading based on twelve five-second bars for the time series momentum strategy instead of one-minute bars as used for backtesting. A single, rather concise class does the trick:"
   ]
  },
  {
   "cell_type": "code",
   "execution_count": 102,
   "metadata": {
    "collapsed": true
   },
   "outputs": [],
   "source": [
    "class MomentumTrader(opy.Streamer):  # 25\n",
    "    def __init__(self, momentum, *args, **kwargs):  # 26\n",
    "        opy.Streamer.__init__(self, *args, **kwargs)  # 27\n",
    "        self.ticks = 0  # 28\n",
    "        self.position = 0  # 29\n",
    "        self.df = pd.DataFrame()  # 30\n",
    "        self.momentum = momentum  # 31\n",
    "        self.units = 100000  # 32\n",
    "    def create_order(self, side, units):  # 33\n",
    "        order = oanda.create_order(config['oanda']['account_id'], \n",
    "            instrument='EUR_USD', units=units, side=side,\n",
    "            type='market')  # 34\n",
    "        print('\\n', order)  # 35\n",
    "    def on_success(self, data):  # 36\n",
    "        self.ticks += 1  # 37\n",
    "        # print(self.ticks, end=', ')\n",
    "        # appends the new tick data to the DataFrame object\n",
    "        self.df = self.df.append(pd.DataFrame(data['tick'],\n",
    "                                 index=[data['tick']['time']]))  # 38\n",
    "        # transforms the time information to a DatetimeIndex object\n",
    "        self.df.index = pd.DatetimeIndex(self.df['time'])  # 39\n",
    "        # resamples the data set to a new, homogeneous interval\n",
    "        dfr = self.df.resample('5s').last()  # 40\n",
    "        # calculates the log returns\n",
    "        dfr['returns'] = np.log(dfr['ask'] / dfr['ask'].shift(1))  # 41\n",
    "        # derives the positioning according to the momentum strategy\n",
    "        dfr['position'] = np.sign(dfr['returns'].rolling( \n",
    "                                      self.momentum).mean())  # 42\n",
    "        if dfr['position'].ix[-1] == 1:  # 43\n",
    "            # go long\n",
    "            if self.position == 0:  # 44\n",
    "                self.create_order('buy', self.units)  # 45\n",
    "            elif self.position == -1:  # 46\n",
    "                self.create_order('buy', self.units * 2)  # 47\n",
    "            self.position = 1  # 48\n",
    "        elif dfr['position'].ix[-1] == -1:  # 49\n",
    "            # go short\n",
    "            if self.position == 0:  # 50\n",
    "                self.create_order('sell', self.units)  # 51\n",
    "            elif self.position == 1: # 52\n",
    "                self.create_order('sell', self.units * 2)  # 53\n",
    "            self.position = -1  # 54\n",
    "        if self.ticks == 250:  # 55\n",
    "            # close out the position\n",
    "            if self.position == 1:  # 56\n",
    "                self.create_order('sell', self.units)  # 57\n",
    "            elif self.position == -1:  # 58\n",
    "                self.create_order('buy', self.units)  # 59\n",
    "            self.disconnect()  # 60"
   ]
  },
  {
   "cell_type": "markdown",
   "metadata": {},
   "source": [
    "The code below lets the MomentumTrader class do its work. The automated trading takes place on the momentum calculated over 12 intervals of length five seconds. The class automatically stops trading after 250 ticks of data received. This is arbitrary but allows for a quick demonstration of the MomentumTrader class."
   ]
  },
  {
   "cell_type": "code",
   "execution_count": 104,
   "metadata": {},
   "outputs": [
    {
     "ename": "JSONDecodeError",
     "evalue": "Expecting property name enclosed in double quotes: line 1 column 2 (char 1)",
     "output_type": "error",
     "traceback": [
      "\u001b[0;31m---------------------------------------------------------------------------\u001b[0m",
      "\u001b[0;31mJSONDecodeError\u001b[0m                           Traceback (most recent call last)",
      "\u001b[0;32m<ipython-input-104-932804215c8f>\u001b[0m in \u001b[0;36m<module>\u001b[0;34m()\u001b[0m\n\u001b[1;32m      4\u001b[0m                     access_token=access_token)\n\u001b[1;32m      5\u001b[0m mt.rates(account_id=account_id,\n\u001b[0;32m----> 6\u001b[0;31m          instruments=\"DE30_EUR\", ignore_heartbeat=True)\n\u001b[0m",
      "\u001b[0;32m~/anaconda3/lib/python3.6/site-packages/oandapy/stream/stream.py\u001b[0m in \u001b[0;36mrates\u001b[0;34m(self, account_id, instruments, **params)\u001b[0m\n\u001b[1;32m     25\u001b[0m         \u001b[0mparams\u001b[0m\u001b[0;34m[\u001b[0m\u001b[0;34m'instruments'\u001b[0m\u001b[0;34m]\u001b[0m \u001b[0;34m=\u001b[0m \u001b[0minstruments\u001b[0m\u001b[0;34m\u001b[0m\u001b[0m\n\u001b[1;32m     26\u001b[0m         \u001b[0mendpoint\u001b[0m \u001b[0;34m=\u001b[0m \u001b[0;34m'v1/prices'\u001b[0m\u001b[0;34m\u001b[0m\u001b[0m\n\u001b[0;32m---> 27\u001b[0;31m         \u001b[0;32mreturn\u001b[0m \u001b[0mself\u001b[0m\u001b[0;34m.\u001b[0m\u001b[0mrun\u001b[0m\u001b[0;34m(\u001b[0m\u001b[0mendpoint\u001b[0m\u001b[0;34m,\u001b[0m \u001b[0mparams\u001b[0m\u001b[0;34m=\u001b[0m\u001b[0mparams\u001b[0m\u001b[0;34m)\u001b[0m\u001b[0;34m\u001b[0m\u001b[0m\n\u001b[0m\u001b[1;32m     28\u001b[0m \u001b[0;34m\u001b[0m\u001b[0m\n\u001b[1;32m     29\u001b[0m     \u001b[0;32mdef\u001b[0m \u001b[0mevents\u001b[0m\u001b[0;34m(\u001b[0m\u001b[0mself\u001b[0m\u001b[0;34m,\u001b[0m \u001b[0;34m**\u001b[0m\u001b[0mparams\u001b[0m\u001b[0;34m)\u001b[0m\u001b[0;34m:\u001b[0m\u001b[0;34m\u001b[0m\u001b[0m\n",
      "\u001b[0;32m~/anaconda3/lib/python3.6/site-packages/oandapy/stream/stream.py\u001b[0m in \u001b[0;36mrun\u001b[0;34m(self, endpoint, params)\u001b[0m\n\u001b[1;32m    102\u001b[0m \u001b[0;34m\u001b[0m\u001b[0m\n\u001b[1;32m    103\u001b[0m                 \u001b[0;32mif\u001b[0m \u001b[0mline\u001b[0m\u001b[0;34m:\u001b[0m\u001b[0;34m\u001b[0m\u001b[0m\n\u001b[0;32m--> 104\u001b[0;31m                     \u001b[0mdata\u001b[0m \u001b[0;34m=\u001b[0m \u001b[0mjson\u001b[0m\u001b[0;34m.\u001b[0m\u001b[0mloads\u001b[0m\u001b[0;34m(\u001b[0m\u001b[0mline\u001b[0m\u001b[0;34m.\u001b[0m\u001b[0mdecode\u001b[0m\u001b[0;34m(\u001b[0m\u001b[0;34m\"utf-8\"\u001b[0m\u001b[0;34m)\u001b[0m\u001b[0;34m)\u001b[0m\u001b[0;34m\u001b[0m\u001b[0m\n\u001b[0m\u001b[1;32m    105\u001b[0m                     \u001b[0;32mif\u001b[0m \u001b[0;32mnot\u001b[0m \u001b[0;34m(\u001b[0m\u001b[0mignore_heartbeat\u001b[0m \u001b[0;32mand\u001b[0m \u001b[0;34m\"heartbeat\"\u001b[0m \u001b[0;32min\u001b[0m \u001b[0mdata\u001b[0m\u001b[0;34m)\u001b[0m\u001b[0;34m:\u001b[0m\u001b[0;34m\u001b[0m\u001b[0m\n\u001b[1;32m    106\u001b[0m                         \u001b[0mself\u001b[0m\u001b[0;34m.\u001b[0m\u001b[0mon_success\u001b[0m\u001b[0;34m(\u001b[0m\u001b[0mdata\u001b[0m\u001b[0;34m)\u001b[0m\u001b[0;34m\u001b[0m\u001b[0m\n",
      "\u001b[0;32m~/anaconda3/lib/python3.6/json/__init__.py\u001b[0m in \u001b[0;36mloads\u001b[0;34m(s, encoding, cls, object_hook, parse_float, parse_int, parse_constant, object_pairs_hook, **kw)\u001b[0m\n\u001b[1;32m    352\u001b[0m             \u001b[0mparse_int\u001b[0m \u001b[0;32mis\u001b[0m \u001b[0;32mNone\u001b[0m \u001b[0;32mand\u001b[0m \u001b[0mparse_float\u001b[0m \u001b[0;32mis\u001b[0m \u001b[0;32mNone\u001b[0m \u001b[0;32mand\u001b[0m\u001b[0;34m\u001b[0m\u001b[0m\n\u001b[1;32m    353\u001b[0m             parse_constant is None and object_pairs_hook is None and not kw):\n\u001b[0;32m--> 354\u001b[0;31m         \u001b[0;32mreturn\u001b[0m \u001b[0m_default_decoder\u001b[0m\u001b[0;34m.\u001b[0m\u001b[0mdecode\u001b[0m\u001b[0;34m(\u001b[0m\u001b[0ms\u001b[0m\u001b[0;34m)\u001b[0m\u001b[0;34m\u001b[0m\u001b[0m\n\u001b[0m\u001b[1;32m    355\u001b[0m     \u001b[0;32mif\u001b[0m \u001b[0mcls\u001b[0m \u001b[0;32mis\u001b[0m \u001b[0;32mNone\u001b[0m\u001b[0;34m:\u001b[0m\u001b[0;34m\u001b[0m\u001b[0m\n\u001b[1;32m    356\u001b[0m         \u001b[0mcls\u001b[0m \u001b[0;34m=\u001b[0m \u001b[0mJSONDecoder\u001b[0m\u001b[0;34m\u001b[0m\u001b[0m\n",
      "\u001b[0;32m~/anaconda3/lib/python3.6/json/decoder.py\u001b[0m in \u001b[0;36mdecode\u001b[0;34m(self, s, _w)\u001b[0m\n\u001b[1;32m    337\u001b[0m \u001b[0;34m\u001b[0m\u001b[0m\n\u001b[1;32m    338\u001b[0m         \"\"\"\n\u001b[0;32m--> 339\u001b[0;31m         \u001b[0mobj\u001b[0m\u001b[0;34m,\u001b[0m \u001b[0mend\u001b[0m \u001b[0;34m=\u001b[0m \u001b[0mself\u001b[0m\u001b[0;34m.\u001b[0m\u001b[0mraw_decode\u001b[0m\u001b[0;34m(\u001b[0m\u001b[0ms\u001b[0m\u001b[0;34m,\u001b[0m \u001b[0midx\u001b[0m\u001b[0;34m=\u001b[0m\u001b[0m_w\u001b[0m\u001b[0;34m(\u001b[0m\u001b[0ms\u001b[0m\u001b[0;34m,\u001b[0m \u001b[0;36m0\u001b[0m\u001b[0;34m)\u001b[0m\u001b[0;34m.\u001b[0m\u001b[0mend\u001b[0m\u001b[0;34m(\u001b[0m\u001b[0;34m)\u001b[0m\u001b[0;34m)\u001b[0m\u001b[0;34m\u001b[0m\u001b[0m\n\u001b[0m\u001b[1;32m    340\u001b[0m         \u001b[0mend\u001b[0m \u001b[0;34m=\u001b[0m \u001b[0m_w\u001b[0m\u001b[0;34m(\u001b[0m\u001b[0ms\u001b[0m\u001b[0;34m,\u001b[0m \u001b[0mend\u001b[0m\u001b[0;34m)\u001b[0m\u001b[0;34m.\u001b[0m\u001b[0mend\u001b[0m\u001b[0;34m(\u001b[0m\u001b[0;34m)\u001b[0m\u001b[0;34m\u001b[0m\u001b[0m\n\u001b[1;32m    341\u001b[0m         \u001b[0;32mif\u001b[0m \u001b[0mend\u001b[0m \u001b[0;34m!=\u001b[0m \u001b[0mlen\u001b[0m\u001b[0;34m(\u001b[0m\u001b[0ms\u001b[0m\u001b[0;34m)\u001b[0m\u001b[0;34m:\u001b[0m\u001b[0;34m\u001b[0m\u001b[0m\n",
      "\u001b[0;32m~/anaconda3/lib/python3.6/json/decoder.py\u001b[0m in \u001b[0;36mraw_decode\u001b[0;34m(self, s, idx)\u001b[0m\n\u001b[1;32m    353\u001b[0m         \"\"\"\n\u001b[1;32m    354\u001b[0m         \u001b[0;32mtry\u001b[0m\u001b[0;34m:\u001b[0m\u001b[0;34m\u001b[0m\u001b[0m\n\u001b[0;32m--> 355\u001b[0;31m             \u001b[0mobj\u001b[0m\u001b[0;34m,\u001b[0m \u001b[0mend\u001b[0m \u001b[0;34m=\u001b[0m \u001b[0mself\u001b[0m\u001b[0;34m.\u001b[0m\u001b[0mscan_once\u001b[0m\u001b[0;34m(\u001b[0m\u001b[0ms\u001b[0m\u001b[0;34m,\u001b[0m \u001b[0midx\u001b[0m\u001b[0;34m)\u001b[0m\u001b[0;34m\u001b[0m\u001b[0m\n\u001b[0m\u001b[1;32m    356\u001b[0m         \u001b[0;32mexcept\u001b[0m \u001b[0mStopIteration\u001b[0m \u001b[0;32mas\u001b[0m \u001b[0merr\u001b[0m\u001b[0;34m:\u001b[0m\u001b[0;34m\u001b[0m\u001b[0m\n\u001b[1;32m    357\u001b[0m             \u001b[0;32mraise\u001b[0m \u001b[0mJSONDecodeError\u001b[0m\u001b[0;34m(\u001b[0m\u001b[0;34m\"Expecting value\"\u001b[0m\u001b[0;34m,\u001b[0m \u001b[0ms\u001b[0m\u001b[0;34m,\u001b[0m \u001b[0merr\u001b[0m\u001b[0;34m.\u001b[0m\u001b[0mvalue\u001b[0m\u001b[0;34m)\u001b[0m \u001b[0;32mfrom\u001b[0m \u001b[0;32mNone\u001b[0m\u001b[0;34m\u001b[0m\u001b[0m\n",
      "\u001b[0;31mJSONDecodeError\u001b[0m: Expecting property name enclosed in double quotes: line 1 column 2 (char 1)"
     ]
    }
   ],
   "source": [
    "\n",
    "\n",
    "mt = MomentumTrader(momentum=12, environment=\"practice\",\n",
    "                    access_token=access_token)\n",
    "mt.rates(account_id=account_id,\n",
    "         instruments=\"DE30_EUR\", ignore_heartbeat=True)"
   ]
  },
  {
   "cell_type": "code",
   "execution_count": 107,
   "metadata": {},
   "outputs": [],
   "source": [
    "import numpy as np\n",
    "import pandas as pd\n",
    "import oandapy as opy\n",
    "import seaborn as sns; sns.set()\n",
    "import warnings\n",
    "warnings.simplefilter('ignore')\n",
    "%matplotlib inline"
   ]
  },
  {
   "cell_type": "code",
   "execution_count": 110,
   "metadata": {},
   "outputs": [
    {
     "ename": "SyntaxError",
     "evalue": "EOL while scanning string literal (<ipython-input-110-6f41342365b4>, line 2)",
     "output_type": "error",
     "traceback": [
      "\u001b[0;36m  File \u001b[0;32m\"<ipython-input-110-6f41342365b4>\"\u001b[0;36m, line \u001b[0;32m2\u001b[0m\n\u001b[0;31m    oanda_creds=pickle.load(open('oanda_creds,'r'))\u001b[0m\n\u001b[0m                                                   ^\u001b[0m\n\u001b[0;31mSyntaxError\u001b[0m\u001b[0;31m:\u001b[0m EOL while scanning string literal\n"
     ]
    }
   ],
   "source": [
    "import pickle\n",
    "oanda_creds=pickle.load(open('oanda_creds,'r'))\n",
    "account_id=oanda_creds[account_id]\n",
    " token=oanda_creds[access_token]                            "
   ]
  },
  {
   "cell_type": "code",
   "execution_count": null,
   "metadata": {
    "collapsed": true
   },
   "outputs": [],
   "source": []
  }
 ],
 "metadata": {
  "kernelspec": {
   "display_name": "Python 3",
   "language": "python",
   "name": "python3"
  },
  "language_info": {
   "codemirror_mode": {
    "name": "ipython",
    "version": 3
   },
   "file_extension": ".py",
   "mimetype": "text/x-python",
   "name": "python",
   "nbconvert_exporter": "python",
   "pygments_lexer": "ipython3",
   "version": "3.6.3"
  }
 },
 "nbformat": 4,
 "nbformat_minor": 2
}
